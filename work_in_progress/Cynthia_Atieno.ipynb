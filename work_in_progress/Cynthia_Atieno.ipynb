{
 "cells": [
  {
   "cell_type": "code",
   "execution_count": 2,
   "metadata": {},
   "outputs": [],
   "source": [
    "#imports \n",
    "import pandas as pd\n",
    "import matplotlib.pyplot as plt\n",
    "import seaborn as sns\n",
    "import numpy as np\n",
    "import matplotlib.pyplot as plt\n",
    "import seaborn as sns\n",
    "from sklearn.model_selection import train_test_split\n",
    "from sklearn.preprocessing import StandardScaler\n",
    "from sklearn.linear_model import LinearRegression\n",
    "from sklearn.metrics import mean_squared_error, r2_score,mean_absolute_error"
   ]
  },
  {
   "cell_type": "code",
   "execution_count": 33,
   "metadata": {},
   "outputs": [
    {
     "name": "stdout",
     "output_type": "stream",
     "text": [
      "           id        date     price  bedrooms  bathrooms  sqft_living  \\\n",
      "0  7129300520  10/13/2014  221900.0         3       1.00         1180   \n",
      "1  6414100192   12/9/2014  538000.0         3       2.25         2570   \n",
      "2  5631500400   2/25/2015  180000.0         2       1.00          770   \n",
      "3  2487200875   12/9/2014  604000.0         4       3.00         1960   \n",
      "4  1954400510   2/18/2015  510000.0         3       2.00         1680   \n",
      "\n",
      "   sqft_lot  floors  waterfront  view  ...  grade  sqft_above  sqft_basement  \\\n",
      "0      5650     1.0         NaN   0.0  ...      7        1180            0.0   \n",
      "1      7242     2.0         0.0   0.0  ...      7        2170          400.0   \n",
      "2     10000     1.0         0.0   0.0  ...      6         770            0.0   \n",
      "3      5000     1.0         0.0   0.0  ...      7        1050          910.0   \n",
      "4      8080     1.0         0.0   0.0  ...      8        1680            0.0   \n",
      "\n",
      "  yr_built  yr_renovated  zipcode      lat     long  sqft_living15  sqft_lot15  \n",
      "0     1955           0.0    98178  47.5112 -122.257           1340        5650  \n",
      "1     1951        1991.0    98125  47.7210 -122.319           1690        7639  \n",
      "2     1933           NaN    98028  47.7379 -122.233           2720        8062  \n",
      "3     1965           0.0    98136  47.5208 -122.393           1360        5000  \n",
      "4     1987           0.0    98074  47.6168 -122.045           1800        7503  \n",
      "\n",
      "[5 rows x 21 columns]\n"
     ]
    }
   ],
   "source": [
    "\n",
    "\n",
    "# Specify the absolute path to the CSV file\n",
    "file_path = r'C:\\Users\\David\\Documents\\PHASE_2_PROJECT\\newproject\\Phase_2_project\\Data\\kc_house_data.csv'\n",
    "\n",
    "# Read the CSV file into a pandas DataFrame\n",
    "data = pd.read_csv(file_path)\n",
    "\n",
    "# Display the first few rows of the dataframe\n",
    "print(data.head())\n"
   ]
  }
 ],
 "metadata": {
  "kernelspec": {
   "display_name": "learn-env",
   "language": "python",
   "name": "python3"
  },
  "language_info": {
   "codemirror_mode": {
    "name": "ipython",
    "version": 3
   },
   "file_extension": ".py",
   "mimetype": "text/x-python",
   "name": "python",
   "nbconvert_exporter": "python",
   "pygments_lexer": "ipython3",
   "version": "3.8.5"
  }
 },
 "nbformat": 4,
 "nbformat_minor": 2
}
