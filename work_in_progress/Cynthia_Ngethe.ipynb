{
 "cells": [
  {
   "cell_type": "markdown",
   "metadata": {},
   "source": [
    "# Business Understanding"
   ]
  },
  {
   "cell_type": "markdown",
   "metadata": {},
   "source": [
    "### Questions to be answered"
   ]
  },
  {
   "cell_type": "markdown",
   "metadata": {},
   "source": [
    "* Who are the stakeholders in this project? Who will be directly affected by the creation of this project?\n",
    "* What business problem(s) will this Data Science project solve for the organization?\n",
    "* What problems are inside the scope of this project?\n",
    "* What problems are outside the scope of this project?\n",
    "* What data sources are available to us?"
   ]
  },
  {
   "cell_type": "markdown",
   "metadata": {},
   "source": [
    "# Data Understanding"
   ]
  },
  {
   "cell_type": "markdown",
   "metadata": {},
   "source": [
    "### Questions to be answered"
   ]
  },
  {
   "cell_type": "markdown",
   "metadata": {},
   "source": [
    "* What data is available to us?\n",
    "* What is our target?\n",
    "* What predictors are available to us?\n",
    "* What data types are the predictors we'll be working with?\n",
    "* What is the distribution of our data?\n",
    "* How many observations does our dataset contain? Do we have a lot of data? Only a little?\n",
    "* How do we know the data is correct? How is the data collected? Is there a chance the data could be wrong?\n",
    "* Do we have enough data to build a model? Will we need to use resampling methods?"
   ]
  },
  {
   "cell_type": "code",
   "execution_count": null,
   "metadata": {},
   "outputs": [],
   "source": [
    "import pandas as pd"
   ]
  },
  {
   "cell_type": "code",
   "execution_count": null,
   "metadata": {},
   "outputs": [],
   "source": [
    "df = pd.read_csv('G:\\Moringa\\Moringa-Phase-2\\Phase_2_Project\\Phase_2_project\\Data\\kc_house_data.csv')\n",
    "print(\"First five rows of the dataset:\")\n",
    "df.head()"
   ]
  },
  {
   "cell_type": "code",
   "execution_count": null,
   "metadata": {},
   "outputs": [],
   "source": [
    "# Total missing values per column\n",
    "print('Total missing values per column')\n",
    "missing_values_per_column = df.isna().sum()\n",
    "missing_values_per_column"
   ]
  },
  {
   "cell_type": "code",
   "execution_count": null,
   "metadata": {},
   "outputs": [],
   "source": [
    "# Display data types and missing values\n",
    "print(\"\\nData types and missing values:\")\n",
    "df.info()"
   ]
  },
  {
   "cell_type": "code",
   "execution_count": null,
   "metadata": {},
   "outputs": [],
   "source": [
    "# Converting date into datetime\n",
    "df['date'] = pd.to_datetime(df['date'])\n"
   ]
  },
  {
   "cell_type": "code",
   "execution_count": null,
   "metadata": {},
   "outputs": [],
   "source": [
    "df['sqft_basement'].unique()"
   ]
  },
  {
   "cell_type": "code",
   "execution_count": null,
   "metadata": {},
   "outputs": [],
   "source": [
    "# Replace '?' with NaN, then convert to numeric and fill NaN with 0\n",
    "df['sqft_basement'] = pd.to_numeric(df['sqft_basement'].replace('?', float('nan')), errors='coerce')\n",
    "df['sqft_basement'].fillna(df['sqft_basement'].median(), inplace=True)\n"
   ]
  },
  {
   "cell_type": "code",
   "execution_count": null,
   "metadata": {},
   "outputs": [],
   "source": [
    "df.info()"
   ]
  },
  {
   "cell_type": "code",
   "execution_count": null,
   "metadata": {},
   "outputs": [],
   "source": [
    "# Fill missing values\n",
    "df['waterfront'].fillna(0, inplace=True)\n",
    "df['view'].fillna(df['view'].mode()[0], inplace=True)\n",
    "df['yr_renovated'].fillna(0, inplace=True)"
   ]
  },
  {
   "cell_type": "code",
   "execution_count": null,
   "metadata": {},
   "outputs": [],
   "source": [
    "missing_values_per_column = df.isna().sum()\n",
    "print(\"Missing values per column:\")\n",
    "missing_values_per_column"
   ]
  },
  {
   "cell_type": "markdown",
   "metadata": {},
   "source": [
    "# Data Preparation"
   ]
  },
  {
   "cell_type": "markdown",
   "metadata": {},
   "source": [
    "### Questions to be answered"
   ]
  },
  {
   "cell_type": "markdown",
   "metadata": {},
   "source": [
    "* Detecting and dealing with missing values\n",
    "* Data type conversions (e.g. numeric data mistakenly encoded as strings)\n",
    "* Checking for and removing multicollinearity (correlated predictors)\n",
    "* Normalizing our numeric data\n",
    "* Converting categorical data to numeric format through one-hot encoding"
   ]
  },
  {
   "cell_type": "markdown",
   "metadata": {},
   "source": [
    "# Modeling"
   ]
  },
  {
   "cell_type": "markdown",
   "metadata": {},
   "source": [
    "### Questions to be answered"
   ]
  },
  {
   "cell_type": "markdown",
   "metadata": {},
   "source": [
    "* Is this a classification task? A regression task? Something else?\n",
    "* What models will we try?\n",
    "* How do we deal with overfitting?\n",
    "* Do we need to use regularization or not?\n",
    "* What sort of validation strategy will we be using to check that our model works well on unseen data?\n",
    "* What loss functions will we use?\n",
    "* What threshold of performance do we consider as successful?"
   ]
  },
  {
   "cell_type": "markdown",
   "metadata": {},
   "source": []
  }
 ],
 "metadata": {
  "kernelspec": {
   "display_name": "learn-env",
   "language": "python",
   "name": "python3"
  },
  "language_info": {
   "codemirror_mode": {
    "name": "ipython",
    "version": 3
   },
   "file_extension": ".py",
   "mimetype": "text/x-python",
   "name": "python",
   "nbconvert_exporter": "python",
   "pygments_lexer": "ipython3",
   "version": "3.8.5"
  }
 },
 "nbformat": 4,
 "nbformat_minor": 2
}
