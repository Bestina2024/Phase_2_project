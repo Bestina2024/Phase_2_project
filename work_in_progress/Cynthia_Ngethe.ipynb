{
 "cells": [
  {
   "cell_type": "markdown",
   "metadata": {},
   "source": [
    "# Business Understanding"
   ]
  },
  {
   "cell_type": "markdown",
   "metadata": {},
   "source": [
    "### Questions to be answered"
   ]
  },
  {
   "cell_type": "markdown",
   "metadata": {},
   "source": [
    "* Who are the stakeholders in this project? Who will be directly affected by the creation of this project?\n",
    "* What business problem(s) will this Data Science project solve for the organization?\n",
    "* What problems are inside the scope of this project?\n",
    "* What problems are outside the scope of this project?\n",
    "* What data sources are available to us?"
   ]
  },
  {
   "cell_type": "markdown",
   "metadata": {},
   "source": [
    "# Data Understanding"
   ]
  },
  {
   "cell_type": "markdown",
   "metadata": {},
   "source": [
    "### Questions to be answered"
   ]
  },
  {
   "cell_type": "markdown",
   "metadata": {},
   "source": [
    "* What data is available to us?\n",
    "* What is our target?\n",
    "* What predictors are available to us?\n",
    "* What data types are the predictors we'll be working with?\n",
    "* What is the distribution of our data?\n",
    "* How many observations does our dataset contain? Do we have a lot of data? Only a little?\n",
    "* How do we know the data is correct? How is the data collected? Is there a chance the data could be wrong?\n",
    "* Do we have enough data to build a model? Will we need to use resampling methods?"
   ]
  }
 ],
 "metadata": {
  "language_info": {
   "name": "python"
  }
 },
 "nbformat": 4,
 "nbformat_minor": 2
}
